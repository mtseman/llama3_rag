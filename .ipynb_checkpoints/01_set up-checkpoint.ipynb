{
 "cells": [
  {
   "cell_type": "markdown",
   "id": "ab7aa698",
   "metadata": {},
   "source": [
    "### 01_Set-up\n",
    "Followed two Medium posts to set up a new env and install llama3."
   ]
  },
  {
   "cell_type": "markdown",
   "id": "eb03076d",
   "metadata": {},
   "source": [
    "More instructions here on downloading llama3 <br>\n",
    "https://medium.com/@kagglepro.llc/easy-guide-to-installing-llama-3-by-meta-8fe5c195af39\n",
    "\n",
    "How to add env to notebook<br>\n",
    "https://medium.com/@k.yara/how-to-set-up-a-conda-environment-with-a-jupyter-kernel-f9c963207491\n",
    "\n",
    "```\n",
    "conda create -n llama3 python=3.8\n",
    "conda activate llama3\n",
    "\n",
    "pip install torch transformers\n",
    "\n",
    "conda install -c conda-forge scikit-learn pandas\n",
    "\n",
    "conda install -c conda-forge ipykernel\n",
    "\n",
    "python -m ipykernel install --user --name=myenv\n",
    "\n",
    "#to remove an env\n",
    "conda env remove --name myenv\n",
    "\n",
    "```"
   ]
  },
  {
   "cell_type": "code",
   "execution_count": null,
   "id": "01aec0b6",
   "metadata": {},
   "outputs": [],
   "source": []
  },
  {
   "cell_type": "code",
   "execution_count": null,
   "id": "5b232943",
   "metadata": {},
   "outputs": [],
   "source": []
  },
  {
   "cell_type": "code",
   "execution_count": null,
   "id": "258b0ad3",
   "metadata": {},
   "outputs": [],
   "source": []
  },
  {
   "cell_type": "code",
   "execution_count": null,
   "id": "c61984bb",
   "metadata": {},
   "outputs": [],
   "source": []
  },
  {
   "cell_type": "code",
   "execution_count": null,
   "id": "64ed7d0c",
   "metadata": {},
   "outputs": [],
   "source": []
  }
 ],
 "metadata": {
  "kernelspec": {
   "display_name": "llama3",
   "language": "python",
   "name": "llama3"
  },
  "language_info": {
   "codemirror_mode": {
    "name": "ipython",
    "version": 3
   },
   "file_extension": ".py",
   "mimetype": "text/x-python",
   "name": "python",
   "nbconvert_exporter": "python",
   "pygments_lexer": "ipython3",
   "version": "3.8.19"
  }
 },
 "nbformat": 4,
 "nbformat_minor": 5
}
