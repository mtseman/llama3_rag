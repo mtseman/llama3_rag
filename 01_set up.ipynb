{
 "cells": [
  {
   "cell_type": "markdown",
   "id": "ab7aa698",
   "metadata": {},
   "source": [
    "### 01_Set-up\n",
    "Followed two Medium posts to set up a new env and install llama3."
   ]
  },
  {
   "cell_type": "markdown",
   "id": "eb03076d",
   "metadata": {},
   "source": [
    "More instructions here on downloading llama3 <br>\n",
    "https://medium.com/@kagglepro.llc/easy-guide-to-installing-llama-3-by-meta-8fe5c195af39\n",
    "\n",
    "How to add env to notebook<br>\n",
    "https://medium.com/@k.yara/how-to-set-up-a-conda-environment-with-a-jupyter-kernel-f9c963207491\n",
    "\n",
    "```\n",
    "conda create -n llama3 python=3.8\n",
    "conda activate llama3\n",
    "\n",
    "pip install torch transformers\n",
    "\n",
    "conda install -c conda-forge scikit-learn pandas\n",
    "\n",
    "conda install -c conda-forge ipykernel\n",
    "\n",
    "python -m ipykernel install --user --name=llama3\n",
    "\n",
    "#to remove an env\n",
    "conda env remove --name myenv\n",
    "\n",
    "```"
   ]
  },
  {
   "cell_type": "markdown",
   "id": "31d88167",
   "metadata": {},
   "source": [
    "### Work through these warnings and issues"
   ]
  },
  {
   "cell_type": "markdown",
   "id": "9d998abe",
   "metadata": {},
   "source": [
    "For notebook_login() from hugginface needed these widgets added to env\n",
    "```\n",
    "pip install ipywidgets\n",
    "```"
   ]
  },
  {
   "cell_type": "markdown",
   "id": "2397d59d",
   "metadata": {},
   "source": [
    "I installed these but got a warning about pydantic and reinstalled my previous version in this env \n",
    "\n",
    "```\n",
    "pip install llama-index\n",
    "pip install llama-index-llms-huggingface\n",
    "pip install llama-index-embeddings-huggingface\n",
    "\n",
    "```\n",
    "ERROR: pip's dependency resolver does not currently take into account all the packages that are installed. This behaviour isthe source of the following dependency conflicts.\n",
    "text-generation 0.7.0 requires pydantic<3,>2, but you have pydantic 1.10.15 which is incompatible.\n",
    "\n",
    "I put this back to what I had\n",
    "```\n",
    "pip install pydantic=2.7.1\n",
    "```\n"
   ]
  },
  {
   "cell_type": "markdown",
   "id": "7461bf59",
   "metadata": {},
   "source": [
    "#### accelerate\n",
    "https://pypi.org/project/accelerate/ <br>\n",
    "\n",
    "I'm not sure what this does but needed it to download the llm using HuggingFaceLLM\n",
    "\n",
    "```\n",
    "pip install accelerate\n",
    "\n",
    "```"
   ]
  },
  {
   "cell_type": "code",
   "execution_count": 1,
   "id": "c61984bb",
   "metadata": {},
   "outputs": [
    {
     "name": "stdout",
     "output_type": "stream",
     "text": [
      "12.1\n"
     ]
    }
   ],
   "source": [
    "import torch\n",
    "print(torch.version.cuda)"
   ]
  },
  {
   "cell_type": "markdown",
   "id": "d8c191b8",
   "metadata": {},
   "source": [
    "**Note** This installation had a cuda version incompatable with my driver, worked out below. "
   ]
  },
  {
   "cell_type": "markdown",
   "id": "f67d583d",
   "metadata": {},
   "source": [
    "#### GPU Cpmpatability\n",
    "I should have GPUs but I think I need an older version of torch that works with my version of CudaToolKit"
   ]
  },
  {
   "cell_type": "markdown",
   "id": "960b4160",
   "metadata": {},
   "source": [
    "This link has what versions to use across pytorch and cudatoolkit. \\\n",
    "After running nvcc --version I saw I had cuda 10.1 \\\n",
    "Note this is not the same as shown from nvidia-smi. \\\n",
    "\\\n",
    "I installed the packages from the link based on CUDA 10.1 \\\n",
    "<https://pytorch.org/get-started/previous-versions/>\n",
    "```\n",
    "# CUDA 10.1\n",
    "conda install pytorch==1.7.1 torchvision==0.8.2 torchaudio==0.7.2 cudatoolkit=10.1 -c pytorch\n",
    "```"
   ]
  },
  {
   "cell_type": "code",
   "execution_count": 1,
   "id": "5d22980c",
   "metadata": {},
   "outputs": [
    {
     "name": "stdout",
     "output_type": "stream",
     "text": [
      "1.7.1\n"
     ]
    }
   ],
   "source": [
    "import torch\n",
    "print(torch.__version__)"
   ]
  },
  {
   "cell_type": "code",
   "execution_count": 2,
   "id": "1271aea8",
   "metadata": {
    "scrolled": true
   },
   "outputs": [
    {
     "data": {
      "text/plain": [
       "True"
      ]
     },
     "execution_count": 2,
     "metadata": {},
     "output_type": "execute_result"
    }
   ],
   "source": [
    "torch.cuda.is_available()"
   ]
  },
  {
   "cell_type": "code",
   "execution_count": 5,
   "id": "ad84eebd",
   "metadata": {},
   "outputs": [
    {
     "data": {
      "text/plain": [
       "3"
      ]
     },
     "execution_count": 5,
     "metadata": {},
     "output_type": "execute_result"
    }
   ],
   "source": [
    "torch.cuda.device_count() "
   ]
  },
  {
   "cell_type": "code",
   "execution_count": 3,
   "id": "64ed7d0c",
   "metadata": {},
   "outputs": [
    {
     "name": "stdout",
     "output_type": "stream",
     "text": [
      "['sm_37', 'sm_50', 'sm_60', 'sm_61', 'sm_70', 'sm_75', 'compute_37']\n"
     ]
    }
   ],
   "source": [
    "print(torch.cuda.get_arch_list())"
   ]
  },
  {
   "cell_type": "code",
   "execution_count": 6,
   "id": "29f969b4",
   "metadata": {},
   "outputs": [
    {
     "name": "stdout",
     "output_type": "stream",
     "text": [
      "10.1\n"
     ]
    }
   ],
   "source": [
    "print(torch.version.cuda)"
   ]
  },
  {
   "cell_type": "markdown",
   "id": "55943705",
   "metadata": {},
   "source": [
    "#### Install more recent pytorch with right cuda.\n",
    "pytorch 1.7.1 is compatable with CUDA 10.1, but I have driver 470.x so should be able to run a more recent version of pytorch"
   ]
  },
  {
   "cell_type": "code",
   "execution_count": 8,
   "id": "31a88156",
   "metadata": {},
   "outputs": [
    {
     "name": "stdout",
     "output_type": "stream",
     "text": [
      "/bin/bash: /home/mtseman/miniconda3/lib/libtinfo.so.6: no version information available (required by /bin/bash)\r\n",
      "NVRM version: NVIDIA UNIX x86_64 Kernel Module  470.239.06  Sat Feb  3 06:03:07 UTC 2024\r\n",
      "GCC version:  gcc version 9.4.0 (Ubuntu 9.4.0-1ubuntu1~20.04.2) \r\n"
     ]
    }
   ],
   "source": [
    "#get the nvidia GPU driver\n",
    "#https://stackoverflow.com/questions/13125714/how-to-get-the-nvidia-driver-version-from-the-command-line\n",
    "!cat /proc/driver/nvidia/version"
   ]
  },
  {
   "cell_type": "code",
   "execution_count": 1,
   "id": "2f0f7a2f",
   "metadata": {},
   "outputs": [
    {
     "name": "stdout",
     "output_type": "stream",
     "text": [
      "2.2.2\n"
     ]
    }
   ],
   "source": [
    "import torch\n",
    "print(torch.__version__)"
   ]
  },
  {
   "cell_type": "code",
   "execution_count": 2,
   "id": "69b547b6",
   "metadata": {},
   "outputs": [
    {
     "name": "stdout",
     "output_type": "stream",
     "text": [
      "11.8\n"
     ]
    }
   ],
   "source": [
    "print(torch.version.cuda)"
   ]
  },
  {
   "cell_type": "markdown",
   "id": "cd633469",
   "metadata": {},
   "source": [
    "#### Conclusion\n",
    "This makes sense now. The link here shows my driver at 470.x works for 11.x. But initially when I installed pytorch from the links at the top, I had CUDA with torch.versio.cuda of 12.1. My driver is only good to 11.x.\n",
    "\n",
    "https://docs.nvidia.com/deploy/cuda-compatibility/#binary-compatibility"
   ]
  },
  {
   "cell_type": "code",
   "execution_count": 3,
   "id": "95239b55",
   "metadata": {},
   "outputs": [
    {
     "data": {
      "text/plain": [
       "True"
      ]
     },
     "execution_count": 3,
     "metadata": {},
     "output_type": "execute_result"
    }
   ],
   "source": [
    "torch.cuda.is_available()"
   ]
  },
  {
   "cell_type": "code",
   "execution_count": null,
   "id": "99e84d0b",
   "metadata": {},
   "outputs": [],
   "source": []
  }
 ],
 "metadata": {
  "kernelspec": {
   "display_name": "llama3",
   "language": "python",
   "name": "llama3"
  },
  "language_info": {
   "codemirror_mode": {
    "name": "ipython",
    "version": 3
   },
   "file_extension": ".py",
   "mimetype": "text/x-python",
   "name": "python",
   "nbconvert_exporter": "python",
   "pygments_lexer": "ipython3",
   "version": "3.8.19"
  }
 },
 "nbformat": 4,
 "nbformat_minor": 5
}
